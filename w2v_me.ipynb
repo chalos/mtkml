{
  "nbformat": 4,
  "nbformat_minor": 0,
  "metadata": {
    "colab": {
      "name": "Untitled0.ipynb",
      "provenance": [],
      "collapsed_sections": [],
      "authorship_tag": "ABX9TyOb4W1MZ0oqJHbBFCvWH2XU",
      "include_colab_link": true
    },
    "kernelspec": {
      "name": "python3",
      "display_name": "Python 3"
    },
    "accelerator": "GPU"
  },
  "cells": [
    {
      "cell_type": "markdown",
      "metadata": {
        "id": "view-in-github",
        "colab_type": "text"
      },
      "source": [
        "<a href=\"https://colab.research.google.com/github/chalos/mtkml/blob/master/w2v_me.ipynb\" target=\"_parent\"><img src=\"https://colab.research.google.com/assets/colab-badge.svg\" alt=\"Open In Colab\"/></a>"
      ]
    },
    {
      "cell_type": "code",
      "metadata": {
        "id": "hxsGH-CdBpg2",
        "colab_type": "code",
        "colab": {
          "base_uri": "https://localhost:8080/",
          "height": 34
        },
        "outputId": "7caa73bd-5d44-45e7-a131-6ebb23a5dfa5"
      },
      "source": [
        "from urllib.request import urlretrieve\n",
        "\n",
        "# download dataset\n",
        "url = \"https://github.com/Elwing-Chou/mtkdl/raw/master/pttexsmall.csv\"\n",
        "urlretrieve(url, \"ptt.csv\")"
      ],
      "execution_count": 2,
      "outputs": [
        {
          "output_type": "execute_result",
          "data": {
            "text/plain": [
              "('ptt.csv', <http.client.HTTPMessage at 0x7f8ec3681198>)"
            ]
          },
          "metadata": {
            "tags": []
          },
          "execution_count": 2
        }
      ]
    },
    {
      "cell_type": "code",
      "metadata": {
        "id": "yHr6UybWDBWc",
        "colab_type": "code",
        "colab": {
          "base_uri": "https://localhost:8080/",
          "height": 419
        },
        "outputId": "91f2650f-50c9-49ef-eddb-c3b6bfb71532"
      },
      "source": [
        "import pandas as pd\n",
        "\n",
        "# 20000 data, column [type, title, content]\n",
        "df = pd.read_csv('ptt.csv', encoding='utf-8')\n",
        "df"
      ],
      "execution_count": 7,
      "outputs": [
        {
          "output_type": "execute_result",
          "data": {
            "text/html": [
              "<div>\n",
              "<style scoped>\n",
              "    .dataframe tbody tr th:only-of-type {\n",
              "        vertical-align: middle;\n",
              "    }\n",
              "\n",
              "    .dataframe tbody tr th {\n",
              "        vertical-align: top;\n",
              "    }\n",
              "\n",
              "    .dataframe thead th {\n",
              "        text-align: right;\n",
              "    }\n",
              "</style>\n",
              "<table border=\"1\" class=\"dataframe\">\n",
              "  <thead>\n",
              "    <tr style=\"text-align: right;\">\n",
              "      <th></th>\n",
              "      <th>type</th>\n",
              "      <th>title</th>\n",
              "      <th>content</th>\n",
              "    </tr>\n",
              "  </thead>\n",
              "  <tbody>\n",
              "    <tr>\n",
              "      <th>0</th>\n",
              "      <td>問卦</td>\n",
              "      <td>小北若去日本展店 會被唐吉一拳打死嗎?</td>\n",
              "      <td>\\n號稱台灣版驚安の殿堂的小北百貨\\n\\n24小時全年無休五金百貨生活百貨應有盡有\\n\\n在...</td>\n",
              "    </tr>\n",
              "    <tr>\n",
              "      <th>1</th>\n",
              "      <td>新聞</td>\n",
              "      <td>自排入不分區立委？ 李昭平：吳敦義從沒</td>\n",
              "      <td>\\n※發文無1~6小標格式或未依順序任意刪除者會被刪文\\n\\n1.媒體來源:聯合報\\n※ 例...</td>\n",
              "    </tr>\n",
              "    <tr>\n",
              "      <th>2</th>\n",
              "      <td>問卦</td>\n",
              "      <td>有沒有這波警察被桶覺青消失的八卦？</td>\n",
              "      <td>\\n\\n疑？阿不是只要有警察的新聞出現在八卦版\\n八卦覺青就會高潮？\\n每次不是都愛拿太陽花...</td>\n",
              "    </tr>\n",
              "    <tr>\n",
              "      <th>3</th>\n",
              "      <td>新聞</td>\n",
              "      <td>謝鑫佑被唬到大 小說寫覆鼎金多年後成預言</td>\n",
              "      <td>\\n謝鑫佑被唬到大 小說寫覆鼎金多年後成預言\\n\\n（中央社記者鄭景雯台北3日電）「我跟馬奎...</td>\n",
              "    </tr>\n",
              "    <tr>\n",
              "      <th>4</th>\n",
              "      <td>新聞</td>\n",
              "      <td>促韓國瑜辭職 高市藍綠議員爆肢體衝突</td>\n",
              "      <td>\\n※發文無1~6小標格式或未依順序任意刪除者會被刪文\\n\\n1.媒體來源:\\n※ 例如蘋果...</td>\n",
              "    </tr>\n",
              "    <tr>\n",
              "      <th>...</th>\n",
              "      <td>...</td>\n",
              "      <td>...</td>\n",
              "      <td>...</td>\n",
              "    </tr>\n",
              "    <tr>\n",
              "      <th>19995</th>\n",
              "      <td>問卦</td>\n",
              "      <td>你各位會以碗就口嗎？？？</td>\n",
              "      <td>\\n\\n乳題，是這樣啦\\n小弟現在出來吃飯，環顧四周\\n以碗就口的包括我就只有兩個\\n其他的...</td>\n",
              "    </tr>\n",
              "    <tr>\n",
              "      <th>19996</th>\n",
              "      <td>問卦</td>\n",
              "      <td>握推手腕到底可不可以彎阿？</td>\n",
              "      <td>\\n\\n\\n各位巨巨大家晚安大家好\\n小弟是習慣不彎喇\\n就是往上推時手腕跟手臂成一直線\\n...</td>\n",
              "    </tr>\n",
              "    <tr>\n",
              "      <th>19997</th>\n",
              "      <td>問卦</td>\n",
              "      <td>佐佐木美玲的中文程度到底如何？</td>\n",
              "      <td>\\nhttps://imgur.com/Lm0FbuA.jpg\\n\\n佐佐木美玲小時候曾經住...</td>\n",
              "    </tr>\n",
              "    <tr>\n",
              "      <th>19998</th>\n",
              "      <td>問卦</td>\n",
              "      <td>欸欸欸 講話是不是一定要多XD比較好?</td>\n",
              "      <td>\\n乳體\\n\\n是這樣的拉XD\\n\\n本肥宅常常看到有人在網路上亂嗆人\\n\\n結果就被對方吉...</td>\n",
              "    </tr>\n",
              "    <tr>\n",
              "      <th>19999</th>\n",
              "      <td>問卦</td>\n",
              "      <td>Ptt棋院怎麼沒有黑白棋?</td>\n",
              "      <td>\\n黑白棋的介面在Ptt上面應該不難設計才對\\n\\n日本人超愛下黑白棋，風行程度更是超過日本...</td>\n",
              "    </tr>\n",
              "  </tbody>\n",
              "</table>\n",
              "<p>20000 rows × 3 columns</p>\n",
              "</div>"
            ],
            "text/plain": [
              "      type  ...                                            content\n",
              "0       問卦  ...  \\n號稱台灣版驚安の殿堂的小北百貨\\n\\n24小時全年無休五金百貨生活百貨應有盡有\\n\\n在...\n",
              "1       新聞  ...  \\n※發文無1~6小標格式或未依順序任意刪除者會被刪文\\n\\n1.媒體來源:聯合報\\n※ 例...\n",
              "2       問卦  ...  \\n\\n疑？阿不是只要有警察的新聞出現在八卦版\\n八卦覺青就會高潮？\\n每次不是都愛拿太陽花...\n",
              "3       新聞  ...  \\n謝鑫佑被唬到大 小說寫覆鼎金多年後成預言\\n\\n（中央社記者鄭景雯台北3日電）「我跟馬奎...\n",
              "4       新聞  ...  \\n※發文無1~6小標格式或未依順序任意刪除者會被刪文\\n\\n1.媒體來源:\\n※ 例如蘋果...\n",
              "...    ...  ...                                                ...\n",
              "19995   問卦  ...  \\n\\n乳題，是這樣啦\\n小弟現在出來吃飯，環顧四周\\n以碗就口的包括我就只有兩個\\n其他的...\n",
              "19996   問卦  ...  \\n\\n\\n各位巨巨大家晚安大家好\\n小弟是習慣不彎喇\\n就是往上推時手腕跟手臂成一直線\\n...\n",
              "19997   問卦  ...  \\nhttps://imgur.com/Lm0FbuA.jpg\\n\\n佐佐木美玲小時候曾經住...\n",
              "19998   問卦  ...  \\n乳體\\n\\n是這樣的拉XD\\n\\n本肥宅常常看到有人在網路上亂嗆人\\n\\n結果就被對方吉...\n",
              "19999   問卦  ...  \\n黑白棋的介面在Ptt上面應該不難設計才對\\n\\n日本人超愛下黑白棋，風行程度更是超過日本...\n",
              "\n",
              "[20000 rows x 3 columns]"
            ]
          },
          "metadata": {
            "tags": []
          },
          "execution_count": 7
        }
      ]
    },
    {
      "cell_type": "code",
      "metadata": {
        "id": "h-f9VndvDe3D",
        "colab_type": "code",
        "colab": {
          "base_uri": "https://localhost:8080/",
          "height": 85
        },
        "outputId": "3c8cc0c7-9d13-47b8-ea5e-e64a032dde3f"
      },
      "source": [
        "# articles recommendation\n",
        "\n",
        "# 1. pre process: remove \\n (?) but will include context from last paragraph\n",
        "# 2. pre process: replace/remove special symbols (e.g. , . ? !)\n",
        "# 3. pre process: url remove (http://xxx)\n",
        "\n",
        "import jieba \n",
        "\n",
        "# download jieba recommended dictionary\n",
        "jieba_dict = \"https://github.com/fxsjy/jieba/raw/master/extra_dict/dict.txt.big\"\n",
        "urlretrieve(jieba_dict, \"dict.big\")\n",
        "\n",
        "# download user dictionary for ppt words\n",
        "ptt_dict = \"https://github.com/Elwing-Chou/mtkdl/raw/master/ptt_dic.txt\"\n",
        "urlretrieve(ptt_dict, \"dict.ptt\")\n",
        "\n",
        "jieba.set_dictionary(\"dict.big\")\n",
        "jieba.load_userdict(\"dict.ptt\")"
      ],
      "execution_count": 9,
      "outputs": [
        {
          "output_type": "stream",
          "text": [
            "Building prefix dict from /content/dict.big ...\n",
            "Dumping model to file cache /tmp/jieba.u07306b11e64fa1786267fcd71f361dde.cache\n",
            "Loading model cost 1.211 seconds.\n",
            "Prefix dict has been built successfully.\n"
          ],
          "name": "stderr"
        }
      ]
    },
    {
      "cell_type": "code",
      "metadata": {
        "id": "i9LcF5aBGeE6",
        "colab_type": "code",
        "colab": {
          "base_uri": "https://localhost:8080/",
          "height": 221
        },
        "outputId": "ed5f221f-0991-4c17-c386-60c300dabd04"
      },
      "source": [
        "import re\n",
        "\n",
        "def pttcut(content):\n",
        "    http_re = r'https?:\\/\\/.*[\\r\\n]*'\n",
        "    content = re.sub(http_re, '', content)\n",
        "\n",
        "    punct = set(u''':!),.:;?]}¢'\"、。〉》」』】〕〗〞︰︱︳﹐､﹒﹔﹕﹖﹗﹚﹜﹞！），．：；？｜｝︴︶︸︺︼︾﹀﹂﹄﹏､～￠々‖•·ˇˉ―--′’”([{£¥'\"‵〈《「『【〔〖（［｛￡￥〝︵︷︹︻︽︿﹁﹃﹙﹛﹝（｛“‘-—_…~/ －＊➜■─★☆=@<>◉é''')\n",
        "    content = filter(lambda x: x not in punct, jieba.cut(content))\n",
        "\n",
        "    return \" \".join(content)\n",
        "\n",
        "\n",
        "x_train = df['content'].apply(pttcut)\n",
        "x_train"
      ],
      "execution_count": 12,
      "outputs": [
        {
          "output_type": "execute_result",
          "data": {
            "text/plain": [
              "0        \\n 號稱 台灣版 驚安 の 殿堂 的 小北 百貨 \\n \\n 24 小時 全年 無休 五金...\n",
              "1        \\n ※ 發文 無 1 6 小 標格 式 或 未 依 順序 任意 刪除 者 會 被刪 文 \\...\n",
              "2        \\n \\n 疑 阿 不是 只要 有 警察 的 新聞 出現 在 八卦 版 \\n 八卦 覺青 就...\n",
              "3        \\n 謝鑫佑 被 唬 到 大 小說 寫 覆鼎金 多年 後 成 預言 \\n \\n 中央社 記者...\n",
              "4        \\n ※ 發文 無 1 6 小 標格 式 或 未 依 順序 任意 刪除 者 會 被刪 文 \\...\n",
              "                               ...                        \n",
              "19995    \\n \\n 乳題 是 這樣 啦 \\n 小弟 現在 出來 吃飯 環顧四周 \\n 以碗 就 口 ...\n",
              "19996    \\n \\n \\n 各位 巨 巨大 家 晚安 大家 好 \\n 小弟 是 習慣 不彎 喇 \\n ...\n",
              "19997    \\n 佐佐木 美玲 小時候 曾經 住過 台灣 \\n \\n 也 曾 在 節目 中 透露 這段 ...\n",
              "19998    \\n 乳體 \\n \\n 是 這樣 的 拉 XD \\n \\n 本 肥宅 常常 看到 有人 在 ...\n",
              "19999    \\n 黑白棋 的 介面 在 Ptt 上面 應該 不難 設計 才 對 \\n \\n 日本 人 超...\n",
              "Name: content, Length: 20000, dtype: object"
            ]
          },
          "metadata": {
            "tags": []
          },
          "execution_count": 12
        }
      ]
    }
  ]
}